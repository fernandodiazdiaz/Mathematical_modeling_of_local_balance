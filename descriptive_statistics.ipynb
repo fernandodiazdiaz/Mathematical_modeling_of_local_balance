{
 "cells": [
  {
   "cell_type": "code",
   "execution_count": 1,
   "id": "ff1a285d",
   "metadata": {},
   "outputs": [],
   "source": [
    "import numpy as np\n",
    "import matplotlib.pyplot as plt\n",
    "import pandas as pd\n",
    "import networkx as nx\n",
    "import scipy.linalg as la\n",
    "from scipy.stats import linregress\n",
    "\n",
    "import matplotlib\n",
    "matplotlib.rc('xtick',labelsize=16)\n",
    "matplotlib.rc('ytick',labelsize=16)\n",
    "matplotlib.rc('font',size = 24)\n",
    "matplotlib.rc('legend',fontsize = 17)\n",
    "matplotlib.rc('figure',titlesize = 25)"
   ]
  },
  {
   "cell_type": "code",
   "execution_count": 2,
   "id": "d83b1b9f",
   "metadata": {},
   "outputs": [],
   "source": [
    "# import and clean the data\n",
    "\n",
    "df = pd.read_csv('allies_and_enemies_1816_2014_iso.csv')\n",
    "\n",
    "\n",
    "df = df[(df['alliance'] != 0) | (df['conflict']!=0)]   #filter entries with no link\n",
    "\n",
    "df['weight'] = df['alliance']+df['conflict']+df['alliance']*df['conflict']\n",
    "\n",
    "df = df.drop(columns = ['alliance','conflict'])"
   ]
  },
  {
   "cell_type": "code",
   "execution_count": 3,
   "id": "4454101a",
   "metadata": {},
   "outputs": [
    {
     "name": "stdout",
     "output_type": "stream",
     "text": [
      "Alliances:  221364\n",
      "Conflicts: 19930\n",
      "Total: 241294\n",
      "Time span: 199\n",
      "No. countries: 210\n"
     ]
    }
   ],
   "source": [
    "# Descriptive statistics of the whole dataset:\n",
    "\n",
    "print('Alliances: ', len(df[df['weight'] == 1]))\n",
    "print('Conflicts:',len(df[df['weight'] == -1]))\n",
    "print('Total:',len(df))\n",
    "\n",
    "\n",
    "countries = np.unique(np.concatenate((np.array(df['statea']),np.array(df['stateb']))))\n",
    "years = np.unique(df['year'])\n",
    "\n",
    "print('Time span:',len(years))\n",
    "print('No. countries:', len(countries))\n",
    "\n",
    "#df.groupby()"
   ]
  },
  {
   "cell_type": "code",
   "execution_count": 4,
   "id": "ce6bb4f1",
   "metadata": {},
   "outputs": [
    {
     "name": "stdout",
     "output_type": "stream",
     "text": [
      "Avg. no. of nodes: 65.75879396984925\n",
      "Avg. no. of links: 1212.532663316583\n"
     ]
    }
   ],
   "source": [
    "# Stats per year\n",
    "\n",
    "years_v = np.arange(1816,2015)\n",
    "nodes_year = np.zeros(len(years_v))\n",
    "links_year = np.zeros(len(years_v))\n",
    "pos_links_year = np.zeros(len(years_v))\n",
    "neg_links_year = np.zeros(len(years_v))\n",
    "no_components = np.zeros(len(years_v))\n",
    "giant_component = np.zeros(len(years_v))\n",
    "\n",
    "for idx, year in enumerate(years_v):\n",
    "    \n",
    "    df_year = df[df['year'] == year]\n",
    "    countries = np.unique(np.concatenate((np.array(df_year['statea']),np.array(df_year['stateb']))))\n",
    "    \n",
    "    nodes_year[idx] = len(countries)\n",
    "    links_year[idx] = len(df_year)\n",
    "    pos_links_year[idx] = len(df_year[df_year['weight'] == 1])\n",
    "    neg_links_year[idx] = len(df_year[df_year['weight'] == -1])\n",
    "    \n",
    "    G = nx.from_pandas_edgelist(df_year, source = 'statea', target = 'stateb')\n",
    "    no_components[idx] = nx.number_connected_components(G)\n",
    "    giant_component[idx] = len(max(nx.connected_components(G), key = len))\n",
    "    \n",
    "    \n",
    "print('Avg. no. of nodes:',nodes_year.mean())\n",
    "print('Avg. no. of links:',links_year.mean())"
   ]
  },
  {
   "cell_type": "code",
   "execution_count": 16,
   "id": "3a81df8d",
   "metadata": {
    "scrolled": true
   },
   "outputs": [
    {
     "name": "stderr",
     "output_type": "stream",
     "text": [
      "The PostScript backend does not support transparency; partially transparent artists will be rendered opaque.\n",
      "The PostScript backend does not support transparency; partially transparent artists will be rendered opaque.\n"
     ]
    }
   ],
   "source": [
    "# plots\n",
    "\n",
    "\n",
    "fig, ax = plt.subplots(figsize = (5,5))\n",
    "ax.plot(years_v, nodes_year, color = 'k')\n",
    "ax.set_title('Number of nodes', fontsize = 25)\n",
    "ax.set_xlabel('Year')\n",
    "ax.set_ylabel('Number of nodes')\n",
    "fig.tight_layout()\n",
    "plt.savefig('Network_statistics_nodes.eps')\n",
    "plt.close()\n",
    "\n",
    "fig, ax = plt.subplots(figsize = (5,5))\n",
    "ax.plot(years_v, no_components, color = 'k')\n",
    "ax.set_xlabel('Year')\n",
    "ax.set_ylabel('# components')\n",
    "ax.set_title('Connected components', fontsize = 25)\n",
    "ax.set_yticks(list(np.arange(0,10)))\n",
    "ax.set_ylim([0,10])\n",
    "ax2 = ax.twinx()\n",
    "ax2.plot(years_v, giant_component/nodes_year, color = 'k', ls = '--' )\n",
    "ax2.set_ylabel('GC size/network size', fontsize = 20)\n",
    "ax2.set_ylim([0,1.1])\n",
    "fig.tight_layout()\n",
    "plt.savefig('Network_statistics_components.eps')\n",
    "plt.close()\n",
    "\n",
    "fig, ax = plt.subplots(figsize = (5,5))\n",
    "ax.plot(years_v, links_year, label = 'Total', color = 'k')\n",
    "ax.plot(years_v, pos_links_year, label = 'Positive', color = 'green')\n",
    "ax.plot(years_v, neg_links_year, label = 'Negative', color = 'red')\n",
    "ax.set_title('Number of edges', fontsize = 25)\n",
    "ax.set_yscale('log')\n",
    "ax.legend()\n",
    "ax.set_xlabel('Year')\n",
    "ax.set_ylabel('Number of edges')\n",
    "fig.tight_layout()\n",
    "plt.savefig('Network_statistics_edges.eps')\n",
    "plt.close()\n",
    "\n",
    "fig, ax = plt.subplots(figsize = (5,5))\n",
    "ax.plot(years_v, pos_links_year/links_year, label = '+ links', color = 'green')\n",
    "ax.plot(years_v, neg_links_year/links_year, label = '- links', color = 'red')\n",
    "ax.set_title('Fraction of +/- edges', fontsize = 25)\n",
    "ax.legend(loc = 'right')\n",
    "ax.set_xlabel('Year')\n",
    "fig.tight_layout()\n",
    "plt.savefig('Network_statistics_edge_fraction.eps')\n",
    "plt.close()\n",
    "\n",
    "\n"
   ]
  },
  {
   "cell_type": "code",
   "execution_count": null,
   "id": "73f1a6ce",
   "metadata": {},
   "outputs": [],
   "source": []
  }
 ],
 "metadata": {
  "kernelspec": {
   "display_name": "Python 3 (ipykernel)",
   "language": "python",
   "name": "python3"
  },
  "language_info": {
   "codemirror_mode": {
    "name": "ipython",
    "version": 3
   },
   "file_extension": ".py",
   "mimetype": "text/x-python",
   "name": "python",
   "nbconvert_exporter": "python",
   "pygments_lexer": "ipython3",
   "version": "3.10.5"
  }
 },
 "nbformat": 4,
 "nbformat_minor": 5
}
