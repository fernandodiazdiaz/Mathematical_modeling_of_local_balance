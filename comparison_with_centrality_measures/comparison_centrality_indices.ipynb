{
 "cells": [
  {
   "cell_type": "code",
   "execution_count": 1,
   "metadata": {},
   "outputs": [],
   "source": [
    "import numpy as np\n",
    "import networkx as nx\n",
    "import scipy as sp\n",
    "import scipy.linalg as la\n",
    "import matplotlib.pyplot as plt\n",
    "from draw_network import draw_network\n",
    "from scipy.stats import spearmanr\n",
    "\n",
    "import pandas as pd\n",
    "\n",
    "import warnings\n",
    "warnings.filterwarnings('ignore', category = FutureWarning,)\n",
    "\n",
    "import matplotlib\n",
    "matplotlib.rc('xtick',labelsize=22)\n",
    "matplotlib.rc('ytick',labelsize=22)\n",
    "matplotlib.rc('font', size=12) \n",
    "matplotlib.rc('axes', labelsize=24)\n",
    "matplotlib.rc('legend',fontsize = 17)\n",
    "matplotlib.rc('figure',titlesize = 25)"
   ]
  },
  {
   "cell_type": "code",
   "execution_count": 2,
   "metadata": {},
   "outputs": [],
   "source": [
    "def local_balance(G):   \n",
    "    \n",
    "    # calculate signed communicability\n",
    "    A = nx.adjacency_matrix(G).todense()\n",
    "    A0 = np.abs(A)\n",
    "    \n",
    "    Comm = la.expm(A)\n",
    "    Comm0 = la.expm(A0)\n",
    "    \n",
    "    # calculate balance\n",
    "    Ki = np.diag(Comm)/np.diag(Comm0)       # node balance\n",
    "    \n",
    "    # convert to dict\n",
    "    Ki = {node: Ki[index] for index, node in enumerate(G.nodes())}\n",
    "    \n",
    "    return Ki\n",
    "\n",
    "\n",
    "\n",
    "def PN_centrality(G):\n",
    "\n",
    "    A = nx.adjacency_matrix(G).toarray()\n",
    "    n = len(G.nodes())\n",
    "    I = np.eye(n)\n",
    "    P = np.maximum(A,np.zeros((n,n)))\n",
    "    N = np.absolute(np.minimum(A,np.zeros((n,n))))\n",
    "    Ap = P-2*N\n",
    "\n",
    "    PN = np.linalg.inv(I-Ap/(2*n-2))@np.ones(n)\n",
    "\n",
    "    # convert to dict \n",
    "    PN = {node: PN[index] for index, node in enumerate(G.nodes())}\n",
    "\n",
    "    return PN\n",
    "\n",
    "\n",
    "\n",
    "def PII_index(G, beta):\n",
    "\n",
    "    k_max = np.max([d for n, d in G.degree()])\n",
    "    d_max = nx.diameter(G)\n",
    "    x = (np.log(2)-np.log(np.abs(beta)))/np.log(k_max)\n",
    "\n",
    "    PII = {node: 0 for node in G.nodes()}\n",
    "\n",
    "    for index, v in enumerate(G.nodes()):\n",
    "\n",
    "        P_v = np.zeros(d_max+1)\n",
    "        N_v = np.zeros(d_max+1)\n",
    "\n",
    "        for w1, w2, s in G.edges(data = 'weight'):\n",
    "            \n",
    "            # find the shortest path length between node v and edge e\n",
    "            d_vw1 = nx.shortest_path_length(G, source=v, target=w1)\n",
    "            d_vw2 = nx.shortest_path_length(G, source=v, target=w2)\n",
    "            d_ve = np.min([d_vw1, d_vw2])\n",
    "\n",
    "            # add +1 to the number of positive or negative edges at distance d_ve\n",
    "            if s > 0:\n",
    "                P_v[d_ve] += 1\n",
    "            else:\n",
    "                N_v[d_ve] += 1\n",
    "\n",
    "            \n",
    "        # compute the PII formula\n",
    "        for i in range(d_max):\n",
    "            PII[v] += beta**i *(P_v[i]**x - N_v[i]**x)\n",
    "\n",
    "    return PII\n",
    "\n",
    "\n",
    "\n",
    "def triangle_index(G):\n",
    "\n",
    "    A = nx.adjacency_matrix(G).todense()\n",
    "    Acube = np.linalg.matrix_power(A, 3)\n",
    "    absAcube = np.linalg.matrix_power(np.abs(A), 3)\n",
    "    triag_idx = np.diag(Acube + absAcube)/2/np.diag(absAcube)\n",
    "\n",
    "    # convert to dict\n",
    "    triag_idx = {node: triag_idx[index] for index, node in enumerate(G.nodes())}\n",
    "\n",
    "    return triag_idx\n",
    "\n",
    "       \n",
    "\n",
    "def eigenvector_centrality(G):\n",
    "\n",
    "    # diagonalize matrix\n",
    "    Lamb, U = la.eig(nx.adjacency_matrix(G).todense())\n",
    "\n",
    "    # return eigenvector corresponding to the largest eigenvalue\n",
    "    idx = np.argmax(Lamb)\n",
    "    EVec = U[:,idx]\n",
    "\n",
    "    #store in a dict\n",
    "    EVec = {node: EVec[index] for index, node in enumerate(G.nodes())}\n",
    "    return EVec"
   ]
  },
  {
   "cell_type": "markdown",
   "metadata": {},
   "source": [
    "# Compare centralities in synthetic networks"
   ]
  },
  {
   "cell_type": "markdown",
   "metadata": {},
   "source": [
    "### Balanced graph"
   ]
  },
  {
   "cell_type": "code",
   "execution_count": 3,
   "metadata": {},
   "outputs": [
    {
     "name": "stderr",
     "output_type": "stream",
     "text": [
      "/tmp/ipykernel_3375198/1954102836.py:78: RuntimeWarning: invalid value encountered in divide\n",
      "  triag_idx = np.diag(Acube + absAcube)/2/np.diag(absAcube)\n"
     ]
    },
    {
     "data": {
      "text/html": [
       "<div>\n",
       "<style scoped>\n",
       "    .dataframe tbody tr th:only-of-type {\n",
       "        vertical-align: middle;\n",
       "    }\n",
       "\n",
       "    .dataframe tbody tr th {\n",
       "        vertical-align: top;\n",
       "    }\n",
       "\n",
       "    .dataframe thead th {\n",
       "        text-align: right;\n",
       "    }\n",
       "</style>\n",
       "<table border=\"1\" class=\"dataframe\">\n",
       "  <thead>\n",
       "    <tr style=\"text-align: right;\">\n",
       "      <th></th>\n",
       "      <th>PN_centrality</th>\n",
       "      <th>PII_index</th>\n",
       "      <th>Kloc</th>\n",
       "      <th>tr_index</th>\n",
       "    </tr>\n",
       "  </thead>\n",
       "  <tbody>\n",
       "    <tr>\n",
       "      <th>3</th>\n",
       "      <td>1.219512</td>\n",
       "      <td>0.156535</td>\n",
       "      <td>1.0</td>\n",
       "      <td>1.0</td>\n",
       "    </tr>\n",
       "    <tr>\n",
       "      <th>1</th>\n",
       "      <td>1.219512</td>\n",
       "      <td>0.156535</td>\n",
       "      <td>1.0</td>\n",
       "      <td>1.0</td>\n",
       "    </tr>\n",
       "    <tr>\n",
       "      <th>5</th>\n",
       "      <td>1.317073</td>\n",
       "      <td>1.156535</td>\n",
       "      <td>1.0</td>\n",
       "      <td>NaN</td>\n",
       "    </tr>\n",
       "    <tr>\n",
       "      <th>4</th>\n",
       "      <td>1.317073</td>\n",
       "      <td>1.156535</td>\n",
       "      <td>1.0</td>\n",
       "      <td>NaN</td>\n",
       "    </tr>\n",
       "    <tr>\n",
       "      <th>2</th>\n",
       "      <td>0.390244</td>\n",
       "      <td>-3.782675</td>\n",
       "      <td>1.0</td>\n",
       "      <td>1.0</td>\n",
       "    </tr>\n",
       "  </tbody>\n",
       "</table>\n",
       "</div>"
      ],
      "text/plain": [
       "   PN_centrality  PII_index  Kloc  tr_index\n",
       "3       1.219512   0.156535   1.0       1.0\n",
       "1       1.219512   0.156535   1.0       1.0\n",
       "5       1.317073   1.156535   1.0       NaN\n",
       "4       1.317073   1.156535   1.0       NaN\n",
       "2       0.390244  -3.782675   1.0       1.0"
      ]
     },
     "execution_count": 3,
     "metadata": {},
     "output_type": "execute_result"
    },
    {
     "data": {
      "image/png": "[encoded data removed]",
      "text/plain": [
       "<Figure size 360x360 with 1 Axes>"
      ]
     },
     "metadata": {},
     "output_type": "display_data"
    }
   ],
   "source": [
    "G = nx.cycle_graph(4)\n",
    "for edge in G.edges():\n",
    "        G[edge[0]][edge[1]]['weight'] = 1\n",
    "\n",
    "G.add_edges_from([(0,5,{'weight': -1}), (1,5,{'weight': -1})])\n",
    "\n",
    "G = nx.relabel_nodes(G, {0:3, 1:1, 2:5, 3:4, 5:2})\n",
    "\n",
    "fig, ax = plt.subplots(figsize = (5, 5))\n",
    "pos = nx.circular_layout(G)\n",
    "draw_network(G, pos = pos, ax = ax)\n",
    "\n",
    "PN_centr = PN_centrality(G)\n",
    "PII_idx = PII_index(G,beta = -0.8)\n",
    "Kloc = local_balance(G)\n",
    "triangle_idx = triangle_index(G)\n",
    "\n",
    "df = pd.DataFrame({'PN_centrality': PN_centr, 'PII_index': PII_idx, 'Kloc': Kloc, 'tr_index': triangle_idx})\n",
    "df.head(10)"
   ]
  },
  {
   "cell_type": "markdown",
   "metadata": {},
   "source": [
    "### Unbalanced graph"
   ]
  },
  {
   "cell_type": "code",
   "execution_count": 4,
   "metadata": {},
   "outputs": [
    {
     "name": "stderr",
     "output_type": "stream",
     "text": [
      "/tmp/ipykernel_3375198/1954102836.py:78: RuntimeWarning: invalid value encountered in divide\n",
      "  triag_idx = np.diag(Acube + absAcube)/2/np.diag(absAcube)\n"
     ]
    },
    {
     "data": {
      "text/html": [
       "<div>\n",
       "<style scoped>\n",
       "    .dataframe tbody tr th:only-of-type {\n",
       "        vertical-align: middle;\n",
       "    }\n",
       "\n",
       "    .dataframe tbody tr th {\n",
       "        vertical-align: top;\n",
       "    }\n",
       "\n",
       "    .dataframe thead th {\n",
       "        text-align: right;\n",
       "    }\n",
       "</style>\n",
       "<table border=\"1\" class=\"dataframe\">\n",
       "  <thead>\n",
       "    <tr style=\"text-align: right;\">\n",
       "      <th></th>\n",
       "      <th>PN_centrality</th>\n",
       "      <th>PII_index</th>\n",
       "      <th>Kloc</th>\n",
       "      <th>tr_index</th>\n",
       "    </tr>\n",
       "  </thead>\n",
       "  <tbody>\n",
       "    <tr>\n",
       "      <th>3</th>\n",
       "      <td>1.128330</td>\n",
       "      <td>0.156535</td>\n",
       "      <td>0.928604</td>\n",
       "      <td>1.0</td>\n",
       "    </tr>\n",
       "    <tr>\n",
       "      <th>1</th>\n",
       "      <td>0.626884</td>\n",
       "      <td>-2.782675</td>\n",
       "      <td>0.928604</td>\n",
       "      <td>1.0</td>\n",
       "    </tr>\n",
       "    <tr>\n",
       "      <th>5</th>\n",
       "      <td>1.240371</td>\n",
       "      <td>2.408815</td>\n",
       "      <td>0.896023</td>\n",
       "      <td>NaN</td>\n",
       "    </tr>\n",
       "    <tr>\n",
       "      <th>4</th>\n",
       "      <td>1.296088</td>\n",
       "      <td>1.156535</td>\n",
       "      <td>0.896023</td>\n",
       "      <td>NaN</td>\n",
       "    </tr>\n",
       "    <tr>\n",
       "      <th>2</th>\n",
       "      <td>0.984320</td>\n",
       "      <td>-0.626140</td>\n",
       "      <td>0.980647</td>\n",
       "      <td>1.0</td>\n",
       "    </tr>\n",
       "  </tbody>\n",
       "</table>\n",
       "</div>"
      ],
      "text/plain": [
       "   PN_centrality  PII_index      Kloc  tr_index\n",
       "3       1.128330   0.156535  0.928604       1.0\n",
       "1       0.626884  -2.782675  0.928604       1.0\n",
       "5       1.240371   2.408815  0.896023       NaN\n",
       "4       1.296088   1.156535  0.896023       NaN\n",
       "2       0.984320  -0.626140  0.980647       1.0"
      ]
     },
     "execution_count": 4,
     "metadata": {},
     "output_type": "execute_result"
    },
    {
     "data": {
      "image/png": "[encoded data removed]",
      "text/plain": [
       "<Figure size 360x360 with 1 Axes>"
      ]
     },
     "metadata": {},
     "output_type": "display_data"
    }
   ],
   "source": [
    "G = nx.cycle_graph(4)\n",
    "for edge in G.edges():\n",
    "        G[edge[0]][edge[1]]['weight'] = 1\n",
    "\n",
    "G.add_edges_from([(0,5,{'weight': 1}), (1,5,{'weight': -1})])\n",
    "G[1][0]['weight'] = -1\n",
    "\n",
    "G = nx.relabel_nodes(G, {0:3, 1:1, 2:5, 3:4, 5:2})\n",
    "\n",
    "fig, ax = plt.subplots(figsize = (5, 5))\n",
    "pos = nx.circular_layout(G)\n",
    "draw_network(G, pos = pos, ax = ax)\n",
    "\n",
    "PN_centr = PN_centrality(G)\n",
    "PII_idx = PII_index(G,beta = -0.8)\n",
    "Kloc = local_balance(G)\n",
    "triangle_idx = triangle_index(G)\n",
    "\n",
    "df = pd.DataFrame({'PN_centrality': PN_centr, 'PII_index': PII_idx, 'Kloc': Kloc, 'tr_index': triangle_idx})\n",
    "df.head(10)"
   ]
  },
  {
   "cell_type": "markdown",
   "metadata": {},
   "source": [
    "# Empirical networks: Gahuku-Gama"
   ]
  },
  {
   "cell_type": "code",
   "execution_count": 5,
   "metadata": {},
   "outputs": [
    {
     "name": "stdout",
     "output_type": "stream",
     "text": [
      "       Eigenvector  PN_centrality  PII_index      Kloc  triangle_index\n",
      "ALIKA    -0.128459       1.022604  -0.410729  0.719149        1.000000\n",
      "OVE      -0.249842       1.041977  -0.317311  0.585953        1.000000\n",
      "GAVEV     0.348895       0.752661   0.112111  0.535242        1.000000\n",
      "UKUDZ    -0.234110       1.141460   1.347074  0.476757        1.000000\n",
      "KOTUN     0.310096       0.764224   0.411052  0.434599        0.933333\n",
      "NAGAM    -0.259240       0.902669   0.870040  0.428654        1.000000\n",
      "ASARO    -0.318726       0.934095   0.154844  0.417206        0.933333\n",
      "MASIL    -0.265222       1.223561   2.687568  0.395421        0.800000\n",
      "GAMA      0.344446       0.714519   0.964608  0.368477        0.850000\n",
      "NAGAD     0.318171       0.714686   0.542331  0.360089        0.850000\n",
      "GAHUK    -0.333037       0.905457  -0.252128  0.341833        0.863636\n",
      "KOHIK    -0.083351       0.903383   0.066769  0.260303        0.875000\n",
      "GEHAM    -0.242969       0.865317  -0.539700  0.255924        0.750000\n",
      "NOTOH    -0.073490       0.874085  -0.112033  0.198823        0.846154\n",
      "SEUVE    -0.020431       0.874613  -0.656908  0.162648        0.750000\n",
      "UHETO    -0.081609       0.915856  -0.144621  0.151384        0.642857\n"
     ]
    }
   ],
   "source": [
    "# Highland tribes\n",
    "# read txt containing adjacency matirx\n",
    "P = np.loadtxt('tribes_dataset/Highland_tribes_adjacency_pos.txt')\n",
    "N = np.loadtxt('tribes_dataset/Highland_tribes_adjacency_neg.txt')\n",
    "A = P-N\n",
    "\n",
    "node_names = np.loadtxt('tribes_dataset/Highland_tribes_names.txt', dtype = str)\n",
    "names_dict = {i:node_names[i] for i in range(len(node_names))}\n",
    "\n",
    "# create networkx graph\n",
    "G = nx.from_numpy_array(A)\n",
    "nx.relabel_nodes(G, names_dict, copy=False)\n",
    "\n",
    "\n",
    "# compute centrality indices\n",
    "EVec = eigenvector_centrality(G)\n",
    "PN_centr = PN_centrality(G)\n",
    "PII_idx = PII_index(G,beta = -0.8)\n",
    "Kloc = local_balance(G)\n",
    "triangle_idx = triangle_index(G)\n",
    "\n",
    "\n",
    "df = pd.DataFrame({'Eigenvector': EVec, 'PN_centrality': PN_centr, 'PII_index': PII_idx, 'Kloc': Kloc, 'triangle_index': triangle_idx})\n",
    "\n",
    "\n",
    "\n",
    "\n",
    "print(df.sort_values(by = 'Kloc', ascending = False))"
   ]
  },
  {
   "cell_type": "code",
   "execution_count": 6,
   "metadata": {},
   "outputs": [
    {
     "name": "stdout",
     "output_type": "stream",
     "text": [
      "[[ 1.      0.0471 -0.7324 -0.1167 -0.0912]\n",
      " [ 0.0471  1.      0.      0.2214  0.2794]\n",
      " [-0.7324  0.      1.      0.208   0.2618]\n",
      " [-0.1167  0.2214  0.208   1.      0.8932]\n",
      " [-0.0912  0.2794  0.2618  0.8932  1.    ]]\n"
     ]
    }
   ],
   "source": [
    "# spearman correlation matrix\n",
    "\n",
    "corr = np.zeros((5,5))\n",
    "for i, centr1 in enumerate(['Eigenvector', 'PII_index', 'PN_centrality','triangle_index','Kloc']):\n",
    "    for j, centr2 in enumerate(['Eigenvector', 'PII_index', 'PN_centrality','triangle_index','Kloc']):\n",
    "        corr[i,j] = spearmanr(df[centr1], df[centr2])[0]\n",
    "\n",
    "print(np.round(corr,4))"
   ]
  },
  {
   "cell_type": "code",
   "execution_count": null,
   "metadata": {},
   "outputs": [],
   "source": []
  },
  {
   "cell_type": "code",
   "execution_count": null,
   "metadata": {},
   "outputs": [],
   "source": []
  }
 ],
 "metadata": {
  "kernelspec": {
   "display_name": "mapas",
   "language": "python",
   "name": "python3"
  },
  "language_info": {
   "codemirror_mode": {
    "name": "ipython",
    "version": 3
   },
   "file_extension": ".py",
   "mimetype": "text/x-python",
   "name": "python",
   "nbconvert_exporter": "python",
   "pygments_lexer": "ipython3",
   "version": "3.10.5"
  },
  "orig_nbformat": 4
 },
 "nbformat": 4,
 "nbformat_minor": 2
}
